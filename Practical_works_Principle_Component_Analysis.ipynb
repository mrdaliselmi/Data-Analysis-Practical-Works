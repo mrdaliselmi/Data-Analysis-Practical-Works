{
 "cells": [
  {
   "attachments": {},
   "cell_type": "markdown",
   "metadata": {},
   "source": [
    "<div>Carthage University<br>\n",
    "INSAT<br>\n",
    "Department of Mathematics & Computer Sciences</div>\n",
    "<hr>\n",
    "<div style=\"text-align:center\"><h1>Principle Component Analysis (PCA)</h1></div>\n",
    "<hr>"
   ]
  },
  {
   "attachments": {},
   "cell_type": "markdown",
   "metadata": {},
   "source": [
    "# Exercice 2"
   ]
  },
  {
   "attachments": {},
   "cell_type": "markdown",
   "metadata": {},
   "source": [
    "Consider the following data matrix:\n",
    "\n",
    "|   |   |   |\n",
    "|---|---|---|\n",
    "| 1 | 1 | 3 |\n",
    "|-1 |-1 | 3 |\n",
    "| 1 | 1 |-3 |\n",
    "|-1 |-1 |-3 |\n",
    "| 1 |-1 | 0 |\n",
    "|-1 | 1 | 0 |\n",
    "\n",
    "1. Determine the standardized data matrix Z.\n",
    "2. Deduce the correlation matrix RX.\n",
    "3. Determine the spectrum of RX.\n",
    "4. Deduce the principle components matrix CX.\n",
    "5. Decide how many principle components we should retain. Justify your decision.\n",
    "6. Say whether we were able to predict the result of PCA earlier."
   ]
  },
  {
   "cell_type": "code",
   "execution_count": 2,
   "metadata": {
    "ExecuteTime": {
     "end_time": "2023-04-29T17:56:38.997080Z",
     "start_time": "2023-04-29T17:56:38.022800Z"
    }
   },
   "outputs": [],
   "source": [
    "# import libraries\n",
    "from sklearn.preprocessing import StandardScaler # for normalization\n",
    "from numpy.linalg import eigvals # for eigenvalues\n",
    "import matplotlib.pyplot as plt # for plotting\n",
    "from numpy.linalg import eigh   # for eigenvalues and eigenvectors\n",
    "import numpy as np            # for arrays\n"
   ]
  },
  {
   "cell_type": "code",
   "execution_count": 4,
   "metadata": {
    "ExecuteTime": {
     "end_time": "2023-04-29T17:56:39.003483Z",
     "start_time": "2023-04-29T17:56:38.996027Z"
    }
   },
   "outputs": [
    {
     "name": "stdout",
     "output_type": "stream",
     "text": [
      "[[ 1.  1.  3.]\n",
      " [-1. -1.  3.]\n",
      " [ 1.  1. -3.]\n",
      " [-1. -1. -3.]\n",
      " [ 1. -1.  0.]\n",
      " [-1.  1.  0.]]\n"
     ]
    }
   ],
   "source": [
    "data = np.genfromtxt('Practice Sheets\\Practice #3\\ex2.csv')\n",
    "print(data)"
   ]
  },
  {
   "cell_type": "code",
   "execution_count": 5,
   "metadata": {
    "ExecuteTime": {
     "end_time": "2023-04-29T17:56:39.008020Z",
     "start_time": "2023-04-29T17:56:39.003483Z"
    }
   },
   "outputs": [
    {
     "name": "stdout",
     "output_type": "stream",
     "text": [
      "[[ 1.          1.          1.22474487]\n",
      " [-1.         -1.          1.22474487]\n",
      " [ 1.          1.         -1.22474487]\n",
      " [-1.         -1.         -1.22474487]\n",
      " [ 1.         -1.          0.        ]\n",
      " [-1.          1.          0.        ]]\n"
     ]
    }
   ],
   "source": [
    "object= StandardScaler()\n",
    "scale = object.fit_transform(data) \n",
    "print(scale)"
   ]
  },
  {
   "cell_type": "code",
   "execution_count": 7,
   "metadata": {
    "ExecuteTime": {
     "end_time": "2023-04-29T17:56:39.014698Z",
     "start_time": "2023-04-29T17:56:39.008081Z"
    }
   },
   "outputs": [
    {
     "data": {
      "text/plain": [
       "array([[1.        , 0.33333333, 0.        ],\n",
       "       [0.33333333, 1.        , 0.        ],\n",
       "       [0.        , 0.        , 1.        ]])"
      ]
     },
     "execution_count": 7,
     "metadata": {},
     "output_type": "execute_result"
    }
   ],
   "source": [
    "RX = np.corrcoef(scale, rowvar=False)\n",
    "RX"
   ]
  },
  {
   "cell_type": "code",
   "execution_count": 8,
   "metadata": {
    "ExecuteTime": {
     "end_time": "2023-04-29T17:56:39.018299Z",
     "start_time": "2023-04-29T17:56:39.015696Z"
    }
   },
   "outputs": [
    {
     "name": "stdout",
     "output_type": "stream",
     "text": [
      "[1.33333333 0.66666667 1.        ]\n"
     ]
    }
   ],
   "source": [
    "spectrum = eigvals(RX)\n",
    "print(spectrum)"
   ]
  },
  {
   "cell_type": "code",
   "execution_count": 9,
   "metadata": {
    "ExecuteTime": {
     "end_time": "2023-04-29T17:56:39.021926Z",
     "start_time": "2023-04-29T17:56:39.020919Z"
    }
   },
   "outputs": [],
   "source": [
    "eigenvalues, eigenvectors = eigh(RX)"
   ]
  },
  {
   "cell_type": "code",
   "execution_count": 10,
   "metadata": {
    "ExecuteTime": {
     "end_time": "2023-04-29T17:56:39.027866Z",
     "start_time": "2023-04-29T17:56:39.023926Z"
    }
   },
   "outputs": [
    {
     "name": "stdout",
     "output_type": "stream",
     "text": [
      "eigenvalues [0.66666667 1.         1.33333333]\n"
     ]
    }
   ],
   "source": [
    "print(\"eigenvalues\", eigenvalues)"
   ]
  },
  {
   "cell_type": "code",
   "execution_count": 11,
   "metadata": {
    "ExecuteTime": {
     "end_time": "2023-04-29T17:56:39.139207Z",
     "start_time": "2023-04-29T17:56:39.028877Z"
    }
   },
   "outputs": [
    {
     "name": "stdout",
     "output_type": "stream",
     "text": [
      "eigenvectors [[-0.70710678  0.          0.70710678]\n",
      " [ 0.70710678  0.          0.70710678]\n",
      " [ 0.          1.          0.        ]]\n"
     ]
    }
   ],
   "source": [
    "print(\"eigenvectors\", eigenvectors)"
   ]
  },
  {
   "cell_type": "code",
   "execution_count": 12,
   "metadata": {
    "ExecuteTime": {
     "end_time": "2023-04-29T17:56:39.160213Z",
     "start_time": "2023-04-29T17:56:39.033368Z"
    }
   },
   "outputs": [
    {
     "name": "stdout",
     "output_type": "stream",
     "text": [
      "[[ 0.          1.22474487  1.41421356]\n",
      " [ 0.          1.22474487 -1.41421356]\n",
      " [ 0.         -1.22474487  1.41421356]\n",
      " [ 0.         -1.22474487 -1.41421356]\n",
      " [-1.41421356  0.          0.        ]\n",
      " [ 1.41421356  0.          0.        ]]\n"
     ]
    }
   ],
   "source": [
    "CX = eigenvectors.T.dot(scale.T).T\n",
    "print(CX)"
   ]
  },
  {
   "cell_type": "code",
   "execution_count": 13,
   "metadata": {
    "ExecuteTime": {
     "end_time": "2023-04-29T17:56:39.161213Z",
     "start_time": "2023-04-29T17:56:39.044488Z"
    }
   },
   "outputs": [
    {
     "name": "stdout",
     "output_type": "stream",
     "text": [
      "Cumulative variance: [0.44444444 0.66666667 1.        ]\n",
      "Number of principal components to retain: 3\n"
     ]
    }
   ],
   "source": [
    "cumulative_variance = np.cumsum(spectrum) / np.sum(eigenvalues)\n",
    "print(\"Cumulative variance:\", cumulative_variance)\n",
    "n_components = np.argmax(cumulative_variance >= 0.95) + 1\n",
    "print(\"Number of principal components to retain:\", n_components)"
   ]
  },
  {
   "attachments": {},
   "cell_type": "markdown",
   "metadata": {},
   "source": [
    "# Exercice 3"
   ]
  },
  {
   "attachments": {},
   "cell_type": "markdown",
   "metadata": {},
   "source": [
    "Find below the record of the results of 6 cognitive tests conducted on 15 children of 10\n",
    "years old. Each test has a score out of 5. Tests are as follows: CUB (cubes), PUZ (puzzles), CAL\n",
    "(mental calculus ), MEM (memory of digits), COM (Comprehension) and VOC (Vocabulary).\n",
    "\n",
    "|     | CUB | PUZ | CAL | MEM | COM | VOC |\n",
    "|-----|-----|-----|-----|-----|-----|-----|\n",
    "| I1  |  5  |  5  |  4  |  0  |  1  |  1  |\n",
    "| I2  |  4  |  3  |  3  |  2  |  2  |  1  |\n",
    "| I3  |  2  |  1  |  2  |  3  |  2  |  2  |\n",
    "| I4  |  5  |  3  |  5  |  3  |  4  |  3  |\n",
    "| I5  |  4  |  4  |  3  |  2  |  3  |  2  |\n",
    "| I6  |  2  |  0  |  1  |  3  |  1  |  1  |\n",
    "| I7  |  3  |  3  |  4  |  2  |  4  |  4  |\n",
    "| I8  |  1  |  2  |  1  |  4  |  3  |  3  |\n",
    "| I9  |  0  |  1  |  0  |  3  |  1  |  0  |\n",
    "| I10 |  2  |  0  |  1  |  3  |  1  |  0  |\n",
    "| I11 |  1  |  2  |  1  |  1  |  0  |  1  |\n",
    "| I12 |  4  |  2  |  4  |  2  |  1  |  2  |\n",
    "| I13 |  3  |  2  |  3  |  3  |  2  |  3  |\n",
    "| I14 |  1  |  0  |  0  |  3  |  2  |  2  |\n",
    "| I15 |  2  |  1  |  1  |  2  |  3  |  2  |\n"
   ]
  },
  {
   "cell_type": "code",
   "execution_count": 15,
   "metadata": {},
   "outputs": [
    {
     "data": {
      "text/plain": [
       "array([[ 2.4       ,  3.06666667,  1.8       , -2.4       , -1.        ,\n",
       "        -0.8       ],\n",
       "       [ 1.4       ,  1.06666667,  0.8       , -0.4       ,  0.        ,\n",
       "        -0.8       ],\n",
       "       [-0.6       , -0.93333333, -0.2       ,  0.6       ,  0.        ,\n",
       "         0.2       ],\n",
       "       [ 2.4       ,  1.06666667,  2.8       ,  0.6       ,  2.        ,\n",
       "         1.2       ],\n",
       "       [ 1.4       ,  2.06666667,  0.8       , -0.4       ,  1.        ,\n",
       "         0.2       ],\n",
       "       [-0.6       , -1.93333333, -1.2       ,  0.6       , -1.        ,\n",
       "        -0.8       ],\n",
       "       [ 0.4       ,  1.06666667,  1.8       , -0.4       ,  2.        ,\n",
       "         2.2       ],\n",
       "       [-1.6       ,  0.06666667, -1.2       ,  1.6       ,  1.        ,\n",
       "         1.2       ],\n",
       "       [-2.6       , -0.93333333, -2.2       ,  0.6       , -1.        ,\n",
       "        -1.8       ],\n",
       "       [-0.6       , -1.93333333, -1.2       ,  0.6       , -1.        ,\n",
       "        -1.8       ],\n",
       "       [-1.6       ,  0.06666667, -1.2       , -1.4       , -2.        ,\n",
       "        -0.8       ],\n",
       "       [ 1.4       ,  0.06666667,  1.8       , -0.4       , -1.        ,\n",
       "         0.2       ],\n",
       "       [ 0.4       ,  0.06666667,  0.8       ,  0.6       ,  0.        ,\n",
       "         1.2       ],\n",
       "       [-1.6       , -1.93333333, -2.2       ,  0.6       ,  0.        ,\n",
       "         0.2       ],\n",
       "       [-0.6       , -0.93333333, -1.2       , -0.4       ,  1.        ,\n",
       "         0.2       ]])"
      ]
     },
     "execution_count": 15,
     "metadata": {},
     "output_type": "execute_result"
    }
   ],
   "source": [
    "data = np.genfromtxt('Practice Sheets\\Practice #3\\ex3.csv')\n",
    "data"
   ]
  },
  {
   "cell_type": "code",
   "execution_count": 16,
   "metadata": {},
   "outputs": [
    {
     "data": {
      "text/plain": [
       "array([[ 1.60356745,  2.13549639,  1.15549333, -2.52050415, -0.8660254 ,\n",
       "        -0.72231512],\n",
       "       [ 0.93541435,  0.74278135,  0.51355259, -0.42008403,  0.        ,\n",
       "        -0.72231512],\n",
       "       [-0.40089186, -0.64993368, -0.12838815,  0.63012604,  0.        ,\n",
       "         0.18057878],\n",
       "       [ 1.60356745,  0.74278135,  1.79743407,  0.63012604,  1.73205081,\n",
       "         1.08347268],\n",
       "       [ 0.93541435,  1.43913887,  0.51355259, -0.42008403,  0.8660254 ,\n",
       "         0.18057878],\n",
       "       [-0.40089186, -1.3462912 , -0.77032889,  0.63012604, -0.8660254 ,\n",
       "        -0.72231512],\n",
       "       [ 0.26726124,  0.74278135,  1.15549333, -0.42008403,  1.73205081,\n",
       "         1.98636658],\n",
       "       [-1.06904497,  0.04642383, -0.77032889,  1.6803361 ,  0.8660254 ,\n",
       "         1.08347268],\n",
       "       [-1.73719807, -0.64993368, -1.41226963,  0.63012604, -0.8660254 ,\n",
       "        -1.62520902],\n",
       "       [-0.40089186, -1.3462912 , -0.77032889,  0.63012604, -0.8660254 ,\n",
       "        -1.62520902],\n",
       "       [-1.06904497,  0.04642383, -0.77032889, -1.47029409, -1.73205081,\n",
       "        -0.72231512],\n",
       "       [ 0.93541435,  0.04642383,  1.15549333, -0.42008403, -0.8660254 ,\n",
       "         0.18057878],\n",
       "       [ 0.26726124,  0.04642383,  0.51355259,  0.63012604,  0.        ,\n",
       "         1.08347268],\n",
       "       [-1.06904497, -1.3462912 , -1.41226963,  0.63012604,  0.        ,\n",
       "         0.18057878],\n",
       "       [-0.40089186, -0.64993368, -0.77032889, -0.42008403,  0.8660254 ,\n",
       "         0.18057878]])"
      ]
     },
     "execution_count": 16,
     "metadata": {},
     "output_type": "execute_result"
    }
   ],
   "source": [
    "object= StandardScaler()\n",
    "scale = object.fit_transform(data) \n",
    "scale"
   ]
  },
  {
   "cell_type": "code",
   "execution_count": 17,
   "metadata": {},
   "outputs": [
    {
     "data": {
      "text/plain": [
       "array([[ 1.        ,  0.73203021,  0.92073688, -0.44908871,  0.3086067 ,\n",
       "         0.27348302],\n",
       "       [ 0.73203021,  1.        ,  0.75099404, -0.61431021,  0.28142954,\n",
       "         0.28502742],\n",
       "       [ 0.92073688,  0.75099404,  1.        , -0.3685477 ,  0.40768712,\n",
       "         0.48686768],\n",
       "       [-0.44908871, -0.61431021, -0.3685477 ,  1.        ,  0.30316953,\n",
       "         0.20228869],\n",
       "       [ 0.3086067 ,  0.28142954,  0.40768712,  0.30316953,  1.        ,\n",
       "         0.78192905],\n",
       "       [ 0.27348302,  0.28502742,  0.48686768,  0.20228869,  0.78192905,\n",
       "         1.        ]])"
      ]
     },
     "execution_count": 17,
     "metadata": {},
     "output_type": "execute_result"
    }
   ],
   "source": [
    "RX = np.corrcoef(scale, rowvar=False)\n",
    "RX"
   ]
  },
  {
   "cell_type": "code",
   "execution_count": 18,
   "metadata": {},
   "outputs": [
    {
     "data": {
      "text/plain": [
       "array([3.25811921, 1.83716258, 0.44298514, 0.04003833, 0.16794194,\n",
       "       0.2537528 ])"
      ]
     },
     "execution_count": 18,
     "metadata": {},
     "output_type": "execute_result"
    }
   ],
   "source": [
    "spectrum = eigvals(RX)\n",
    "spectrum"
   ]
  },
  {
   "cell_type": "code",
   "execution_count": 19,
   "metadata": {},
   "outputs": [
    {
     "name": "stdout",
     "output_type": "stream",
     "text": [
      "eigenvalues [3.25811921 1.83716258 0.44298514 0.04003833 0.16794194 0.2537528 ]\n"
     ]
    }
   ],
   "source": [
    "eigenvalues, eigenvectors = eigh(RX)\n",
    "print(\"eigenvalues\",spectrum)"
   ]
  },
  {
   "cell_type": "code",
   "execution_count": 20,
   "metadata": {},
   "outputs": [
    {
     "name": "stdout",
     "output_type": "stream",
     "text": [
      "eigenvectors [[ 0.60798795 -0.26950543 -0.02587016 -0.53660379  0.14888433 -0.49692861]\n",
      " [ 0.11071088  0.6300059  -0.45221096  0.33370991  0.2126972  -0.47931046]\n",
      " [-0.70123699  0.11584291  0.28326753 -0.37314053  0.02880432 -0.52396858]\n",
      " [ 0.0859089   0.51456529 -0.19530814 -0.54088231 -0.57998147  0.24650511]\n",
      " [-0.19112448 -0.48388171 -0.54218997  0.1726045  -0.56272899 -0.29816727]\n",
      " [ 0.28714375  0.13461376  0.61844988  0.3729802  -0.52794057 -0.31482039]]\n"
     ]
    }
   ],
   "source": [
    "print(\"eigenvectors\",eigenvectors)"
   ]
  },
  {
   "cell_type": "code",
   "execution_count": 21,
   "metadata": {},
   "outputs": [
    {
     "data": {
      "text/plain": [
       "array([[ 0.14267434,  0.07191725, -0.16475613,  0.36540155,  3.05676612,\n",
       "        -2.56156368],\n",
       "       [ 0.04733533, -0.0380454 , -0.57929029, -0.48789388,  0.93702898,\n",
       "        -0.96609577],\n",
       "       [-0.11967613,  0.032257  ,  0.25652026, -0.22733412, -0.66242001,\n",
       "         0.67648541],\n",
       "       [-0.16903506, -0.1240099 , -0.26031949, -0.92105278, -1.46363838,\n",
       "        -2.79689126],\n",
       "       [ 0.21817136,  0.10315204, -0.80534646,  0.23072895,  0.12113036,\n",
       "        -1.84233706],\n",
       "       [ 0.15964043, -0.18330472,  0.30073546, -0.70642284,  0.13498795,\n",
       "         1.88908347],\n",
       "       [-0.3623026 , -0.25709211,  0.3559192 ,  0.94034989, -1.54865603,\n",
       "        -2.33961725],\n",
       "       [ 0.18530585,  0.81956268, -0.33920621,  0.52131625, -2.20538921,\n",
       "         0.72750744],\n",
       "       [-0.38483104,  0.41964018, -0.71983016,  0.1457981 ,  0.54232985,\n",
       "         2.839967  ],\n",
       "       [-0.09961991, -0.30484666, -0.25765916, -1.04318439,  0.61166227,\n",
       "         2.17333288],\n",
       "       [-0.10732604,  0.21243543,  0.56799912,  1.10347367,  2.03727937,\n",
       "         1.29402112],\n",
       "       [-0.05513262,  0.13820534,  0.94539609, -0.77252773,  0.81806964,\n",
       "        -0.99471009],\n",
       "       [ 0.17275501,  0.48680168,  0.66457012, -0.25625877, -0.87301285,\n",
       "        -0.60991662],\n",
       "       [ 0.29730566, -0.37511002,  0.22502406,  0.37788618, -0.94699216,\n",
       "         2.0149948 ],\n",
       "       [ 0.07473541, -1.00156278, -0.18975642,  0.72971992, -0.5591459 ,\n",
       "         0.49573961]])"
      ]
     },
     "execution_count": 21,
     "metadata": {},
     "output_type": "execute_result"
    }
   ],
   "source": [
    "CX = eigenvectors.T.dot(scale.T).T\n",
    "CX"
   ]
  },
  {
   "cell_type": "code",
   "execution_count": 22,
   "metadata": {},
   "outputs": [
    {
     "name": "stdout",
     "output_type": "stream",
     "text": [
      "Cumulative variance: [0.54301987 0.84921363 0.92304449 0.92971754 0.95770787 1.        ]\n",
      "Number of principal components to retain: 2\n"
     ]
    }
   ],
   "source": [
    "cumulative_variance = np.cumsum(spectrum) / np.sum(eigenvalues)\n",
    "print(\"Cumulative variance:\", cumulative_variance)\n",
    "n_components = np.argmax(cumulative_variance >= 0.75) + 1\n",
    "print(\"Number of principal components to retain:\", n_components)"
   ]
  },
  {
   "cell_type": "code",
   "execution_count": null,
   "metadata": {},
   "outputs": [],
   "source": []
  }
 ],
 "metadata": {
  "kernelspec": {
   "display_name": "Python 3",
   "language": "python",
   "name": "python3"
  },
  "language_info": {
   "codemirror_mode": {
    "name": "ipython",
    "version": 3
   },
   "file_extension": ".py",
   "mimetype": "text/x-python",
   "name": "python",
   "nbconvert_exporter": "python",
   "pygments_lexer": "ipython3",
   "version": "3.10.9"
  },
  "orig_nbformat": 4
 },
 "nbformat": 4,
 "nbformat_minor": 2
}
