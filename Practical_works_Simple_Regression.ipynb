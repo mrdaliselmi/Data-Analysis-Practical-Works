{
 "cells": [
  {
   "attachments": {},
   "cell_type": "markdown",
   "metadata": {},
   "source": [
    "<div>Carthage University<br>\n",
    "INSAT<br>\n",
    "Department of Mathematics & Computer Sciences</div>\n",
    "<hr>\n",
    "<div style=\"text-align:center\"><h1>Practical works: Simple Regression</h1></div>\n",
    "<hr>"
   ]
  },
  {
   "attachments": {},
   "cell_type": "markdown",
   "metadata": {},
   "source": [
    "**1. Import the two columns of the Excel table \"Exemple2Reference_SReg\".**"
   ]
  },
  {
   "cell_type": "code",
   "execution_count": 2,
   "metadata": {},
   "outputs": [
    {
     "data": {
      "text/html": [
       "<div>\n",
       "<style scoped>\n",
       "    .dataframe tbody tr th:only-of-type {\n",
       "        vertical-align: middle;\n",
       "    }\n",
       "\n",
       "    .dataframe tbody tr th {\n",
       "        vertical-align: top;\n",
       "    }\n",
       "\n",
       "    .dataframe thead th {\n",
       "        text-align: right;\n",
       "    }\n",
       "</style>\n",
       "<table border=\"1\" class=\"dataframe\">\n",
       "  <thead>\n",
       "    <tr style=\"text-align: right;\">\n",
       "      <th></th>\n",
       "      <th>X</th>\n",
       "      <th>Y</th>\n",
       "    </tr>\n",
       "  </thead>\n",
       "  <tbody>\n",
       "    <tr>\n",
       "      <th>0</th>\n",
       "      <td>4</td>\n",
       "      <td>14.561964</td>\n",
       "    </tr>\n",
       "    <tr>\n",
       "      <th>1</th>\n",
       "      <td>5</td>\n",
       "      <td>16.305237</td>\n",
       "    </tr>\n",
       "    <tr>\n",
       "      <th>2</th>\n",
       "      <td>3</td>\n",
       "      <td>13.032312</td>\n",
       "    </tr>\n",
       "    <tr>\n",
       "      <th>3</th>\n",
       "      <td>0</td>\n",
       "      <td>0.762464</td>\n",
       "    </tr>\n",
       "    <tr>\n",
       "      <th>4</th>\n",
       "      <td>1</td>\n",
       "      <td>3.771966</td>\n",
       "    </tr>\n",
       "    <tr>\n",
       "      <th>5</th>\n",
       "      <td>3</td>\n",
       "      <td>12.652433</td>\n",
       "    </tr>\n",
       "    <tr>\n",
       "      <th>6</th>\n",
       "      <td>2</td>\n",
       "      <td>4.351902</td>\n",
       "    </tr>\n",
       "    <tr>\n",
       "      <th>7</th>\n",
       "      <td>1</td>\n",
       "      <td>3.517255</td>\n",
       "    </tr>\n",
       "    <tr>\n",
       "      <th>8</th>\n",
       "      <td>5</td>\n",
       "      <td>13.400970</td>\n",
       "    </tr>\n",
       "    <tr>\n",
       "      <th>9</th>\n",
       "      <td>4</td>\n",
       "      <td>11.451762</td>\n",
       "    </tr>\n",
       "    <tr>\n",
       "      <th>10</th>\n",
       "      <td>1</td>\n",
       "      <td>5.835234</td>\n",
       "    </tr>\n",
       "    <tr>\n",
       "      <th>11</th>\n",
       "      <td>0</td>\n",
       "      <td>1.038325</td>\n",
       "    </tr>\n",
       "    <tr>\n",
       "      <th>12</th>\n",
       "      <td>1</td>\n",
       "      <td>3.390334</td>\n",
       "    </tr>\n",
       "    <tr>\n",
       "      <th>13</th>\n",
       "      <td>2</td>\n",
       "      <td>8.139768</td>\n",
       "    </tr>\n",
       "    <tr>\n",
       "      <th>14</th>\n",
       "      <td>0</td>\n",
       "      <td>-2.602850</td>\n",
       "    </tr>\n",
       "    <tr>\n",
       "      <th>15</th>\n",
       "      <td>3</td>\n",
       "      <td>7.929070</td>\n",
       "    </tr>\n",
       "    <tr>\n",
       "      <th>16</th>\n",
       "      <td>2</td>\n",
       "      <td>8.357754</td>\n",
       "    </tr>\n",
       "  </tbody>\n",
       "</table>\n",
       "</div>"
      ],
      "text/plain": [
       "    X          Y\n",
       "0   4  14.561964\n",
       "1   5  16.305237\n",
       "2   3  13.032312\n",
       "3   0   0.762464\n",
       "4   1   3.771966\n",
       "5   3  12.652433\n",
       "6   2   4.351902\n",
       "7   1   3.517255\n",
       "8   5  13.400970\n",
       "9   4  11.451762\n",
       "10  1   5.835234\n",
       "11  0   1.038325\n",
       "12  1   3.390334\n",
       "13  2   8.139768\n",
       "14  0  -2.602850\n",
       "15  3   7.929070\n",
       "16  2   8.357754"
      ]
     },
     "execution_count": 2,
     "metadata": {},
     "output_type": "execute_result"
    }
   ],
   "source": [
    "import pandas as pd # data processing, CSV file I/O (e.g. pd.read_csv)\n",
    "# Read the Excel file\n",
    "df = pd.read_excel(\"Practice Sheets\\Practice #2\\Exemple2Reference_SReg.xlsx\", usecols=[\"X\", \"Y\"])\n",
    "# Print the data\n",
    "df\n"
   ]
  },
  {
   "attachments": {},
   "cell_type": "markdown",
   "metadata": {},
   "source": [
    "**2. Plot the scattergram of X and Y, use the command plot(), comment the obtained graph.**"
   ]
  },
  {
   "cell_type": "code",
   "execution_count": 3,
   "metadata": {},
   "outputs": [
    {
     "data": {
      "image/png": "[encoded data removed]",
      "text/plain": [
       "<Figure size 640x480 with 1 Axes>"
      ]
     },
     "metadata": {},
     "output_type": "display_data"
    }
   ],
   "source": [
    "import matplotlib.pyplot as plt # data visualization library\n",
    "\n",
    "# Create a scatter plot of X and Y\n",
    "plt.scatter(df[\"X\"], df[\"Y\"])\n",
    "\n",
    "# Add axis labels and title to the plot\n",
    "plt.xlabel(\"X\")\n",
    "plt.ylabel(\"Y\")\n",
    "plt.title(\"Scatter plot of X and Y\")\n",
    "\n",
    "# Display the plot\n",
    "plt.show()"
   ]
  },
  {
   "attachments": {},
   "cell_type": "markdown",
   "metadata": {},
   "source": [
    "**3. Apply the command lm(Y  X), explain the parameters you get.**\n",
    "\n",
    "To perform a simple linear regression analysis in R, use the `lm(Y X)` command, where Y is the response variable and X is the predictor variable. This command estimates the relationship between Y and X by fitting a line to the data points.\n",
    "\n",
    "        To perform a simple linear regression analysis in Python, use the `statsmodels.api` library. "
   ]
  },
  {
   "cell_type": "code",
   "execution_count": 4,
   "metadata": {},
   "outputs": [
    {
     "name": "stdout",
     "output_type": "stream",
     "text": [
      "Requirement already satisfied: statsmodels in c:\\users\\user\\appdata\\local\\programs\\python\\python310\\lib\\site-packages (0.13.5)\n",
      "Requirement already satisfied: packaging>=21.3 in c:\\users\\user\\appdata\\local\\programs\\python\\python310\\lib\\site-packages (from statsmodels) (23.0)\n",
      "Requirement already satisfied: pandas>=0.25 in c:\\users\\user\\appdata\\local\\programs\\python\\python310\\lib\\site-packages (from statsmodels) (1.5.3)\n",
      "Requirement already satisfied: scipy>=1.3 in c:\\users\\user\\appdata\\local\\programs\\python\\python310\\lib\\site-packages (from statsmodels) (1.10.0)\n",
      "Requirement already satisfied: numpy>=1.22.3 in c:\\users\\user\\appdata\\local\\programs\\python\\python310\\lib\\site-packages (from statsmodels) (1.24.1)\n",
      "Requirement already satisfied: patsy>=0.5.2 in c:\\users\\user\\appdata\\local\\programs\\python\\python310\\lib\\site-packages (from statsmodels) (0.5.3)\n",
      "Requirement already satisfied: python-dateutil>=2.8.1 in c:\\users\\user\\appdata\\local\\programs\\python\\python310\\lib\\site-packages (from pandas>=0.25->statsmodels) (2.8.2)\n",
      "Requirement already satisfied: pytz>=2020.1 in c:\\users\\user\\appdata\\local\\programs\\python\\python310\\lib\\site-packages (from pandas>=0.25->statsmodels) (2022.7.1)\n",
      "Requirement already satisfied: six in c:\\users\\user\\appdata\\local\\programs\\python\\python310\\lib\\site-packages (from patsy>=0.5.2->statsmodels) (1.16.0)\n"
     ]
    }
   ],
   "source": [
    "! pip install statsmodels"
   ]
  },
  {
   "cell_type": "code",
   "execution_count": 10,
   "metadata": {},
   "outputs": [
    {
     "name": "stdout",
     "output_type": "stream",
     "text": [
      "                            OLS Regression Results                            \n",
      "==============================================================================\n",
      "Dep. Variable:                      Y   R-squared:                       0.879\n",
      "Model:                            OLS   Adj. R-squared:                  0.871\n",
      "Method:                 Least Squares   F-statistic:                     108.7\n",
      "Date:                Sun, 19 Mar 2023   Prob (F-statistic):           2.87e-08\n",
      "Time:                        12:15:23   Log-Likelihood:                -34.664\n",
      "No. Observations:                  17   AIC:                             73.33\n",
      "Df Residuals:                      15   BIC:                             74.99\n",
      "Df Model:                           1                                         \n",
      "Covariance Type:            nonrobust                                         \n",
      "==============================================================================\n",
      "                 coef    std err          t      P>|t|      [0.025      0.975]\n",
      "------------------------------------------------------------------------------\n",
      "const          0.6697      0.805      0.832      0.418      -1.046       2.385\n",
      "X              3.0949      0.297     10.428      0.000       2.462       3.728\n",
      "==============================================================================\n",
      "Omnibus:                        1.001   Durbin-Watson:                   2.052\n",
      "Prob(Omnibus):                  0.606   Jarque-Bera (JB):                0.764\n",
      "Skew:                          -0.158   Prob(JB):                        0.682\n",
      "Kurtosis:                       2.010   Cond. No.                         4.96\n",
      "==============================================================================\n",
      "\n",
      "Notes:\n",
      "[1] Standard Errors assume that the covariance matrix of the errors is correctly specified.\n"
     ]
    },
    {
     "name": "stderr",
     "output_type": "stream",
     "text": [
      "c:\\Users\\USER\\AppData\\Local\\Programs\\Python\\Python310\\lib\\site-packages\\scipy\\stats\\_stats_py.py:1736: UserWarning: kurtosistest only valid for n>=20 ... continuing anyway, n=17\n",
      "  warnings.warn(\"kurtosistest only valid for n>=20 ... continuing \"\n"
     ]
    }
   ],
   "source": [
    "import statsmodels.api as sm\n",
    "\n",
    "# Fit a linear regression model\n",
    "X = sm.add_constant(df[\"X\"])\n",
    "model = sm.OLS(df[\"Y\"], X).fit()\n",
    "\n",
    "# Print the model summary\n",
    "print(model.summary())"
   ]
  },
  {
   "attachments": {},
   "cell_type": "markdown",
   "metadata": {},
   "source": [
    "*The model summary provides a lot of information, including the coefficients, standard errors, t-values, and p-values for each variable in the model. The R-squared value indicates the proportion of variance in the dependent variable that is explained by the independent variable. The F-statistic and Prob (F-statistic) values provide information on the overall significance of the model.*\n",
    "\n",
    "**R-squared**: The proportion of the variation in the response variable explained by the predictor variable is measured by this parameter. It has a value between 0 and 1, with higher numbers indicating a stronger relationship between X and Y.\n",
    "\n",
    "**Coefficients**: These values represent the linear regression model's estimated slope and intercept. The slope coefficient (X) calculates the change in the response variable (Y) that corresponds to a one-unit increase in the predictor variable (X). When the predictor variable is equal to zero, the intercept coefficient represents the estimated value of the response variable.\n",
    "\n",
    "**Standard errors**: The standard deviation of the estimated coefficients is represented by these parameters. Larger standard errors indicate that the estimated coefficients are more uncertain.\n",
    "\n",
    "**t-values**: These parameters represent the estimated coefficient to standard error ratio. They are used to test the hypothesis that the coefficient's true value is zero (i.e., no relationship between X and Y). Greater absolute t-values imply more evidence against the null hypothesis.\n",
    "\n",
    "**P-values**: These factors describe the likelihood of seeing a t-value that is as extreme or more extreme than the observed value, assuming the null hypothesis is true. Lower p-values suggest more evidence against the null hypothesis. A p-value of less than 0.05 is commonly used as a criterion for significance.\n",
    "\n",
    "**In summary, the lm function in R is equivalent to the OLS function in Python, which creates a linear regression model. The model summary provides information on the model parameters and goodness of fit, which can be used to evaluate the relationship between the dependent and independent variables.**\n",
    "\n",
    "**We can establish the strength and importance of the link between X and Y by studying these factors, and we can make predictions about the value of Y given a value of X.**\n",
    "<hr>"
   ]
  },
  {
   "attachments": {},
   "cell_type": "markdown",
   "metadata": {},
   "source": [
    "**4. Use the command abline(regXY$coefficients) and plot the regression line, comment.**"
   ]
  },
  {
   "cell_type": "code",
   "execution_count": 11,
   "metadata": {},
   "outputs": [
    {
     "data": {
      "image/png": "[encoded data removed]",
      "text/plain": [
       "<Figure size 640x480 with 1 Axes>"
      ]
     },
     "metadata": {},
     "output_type": "display_data"
    }
   ],
   "source": [
    "import numpy as np\n",
    "\n",
    "# Plot the scatter plot of X and Y\n",
    "plt.scatter(df[\"X\"], df[\"Y\"])\n",
    "plt.xlabel(\"X\")\n",
    "plt.ylabel(\"Y\")\n",
    "plt.title(\"Scatter plot of X and Y w/ regression line\")\n",
    "\n",
    "# Add the regression line to the plot\n",
    "x_values = np.array([df[\"X\"].min(), df[\"X\"].max()])\n",
    "y_values = model.params[0] + model.params[1] * x_values\n",
    "plt.plot(x_values, y_values, color=\"red\")\n",
    "\n",
    "# Display the plot\n",
    "plt.show()"
   ]
  },
  {
   "attachments": {},
   "cell_type": "markdown",
   "metadata": {},
   "source": [
    "**5. Apply the command anova(regXY) and explain all outputs and how you can get them\n",
    "manually**"
   ]
  },
  {
   "cell_type": "code",
   "execution_count": 12,
   "metadata": {},
   "outputs": [
    {
     "name": "stdout",
     "output_type": "stream",
     "text": [
      "              sum_sq    df           F        PR(>F)\n",
      "X         425.959048   1.0  108.734732  2.872479e-08\n",
      "Residual   58.761222  15.0         NaN           NaN\n"
     ]
    }
   ],
   "source": [
    "import statsmodels.api as sm\n",
    "from statsmodels.formula.api import ols\n",
    "\n",
    "# Create a linear regression model\n",
    "model = ols('Y ~ X', data=df).fit()\n",
    "\n",
    "# Calculate the ANOVA table\n",
    "anova_table = sm.stats.anova_lm(model, typ=2)\n",
    "\n",
    "# Print the ANOVA table\n",
    "print(anova_table)"
   ]
  },
  {
   "attachments": {},
   "cell_type": "markdown",
   "metadata": {},
   "source": [
    "**Now, Manually**"
   ]
  },
  {
   "cell_type": "code",
   "execution_count": 7,
   "metadata": {},
   "outputs": [
    {
     "data": {
      "text/html": [
       "<div>\n",
       "<style scoped>\n",
       "    .dataframe tbody tr th:only-of-type {\n",
       "        vertical-align: middle;\n",
       "    }\n",
       "\n",
       "    .dataframe tbody tr th {\n",
       "        vertical-align: top;\n",
       "    }\n",
       "\n",
       "    .dataframe thead th {\n",
       "        text-align: right;\n",
       "    }\n",
       "</style>\n",
       "<table border=\"1\" class=\"dataframe\">\n",
       "  <thead>\n",
       "    <tr style=\"text-align: right;\">\n",
       "      <th></th>\n",
       "      <th>degrees of freedom</th>\n",
       "      <th>sum of squares</th>\n",
       "      <th>mean sum of squares</th>\n",
       "      <th>F-statistic</th>\n",
       "      <th>p-value</th>\n",
       "    </tr>\n",
       "  </thead>\n",
       "  <tbody>\n",
       "    <tr>\n",
       "      <th>Regression</th>\n",
       "      <td>1</td>\n",
       "      <td>425.959048</td>\n",
       "      <td>425.959048</td>\n",
       "      <td>108.734732</td>\n",
       "      <td>2.872479e-08</td>\n",
       "    </tr>\n",
       "    <tr>\n",
       "      <th>Residual</th>\n",
       "      <td>15</td>\n",
       "      <td>58.761222</td>\n",
       "      <td>3.917415</td>\n",
       "      <td>NaN</td>\n",
       "      <td>NaN</td>\n",
       "    </tr>\n",
       "    <tr>\n",
       "      <th>Total</th>\n",
       "      <td>16</td>\n",
       "      <td>484.720270</td>\n",
       "      <td>NaN</td>\n",
       "      <td>NaN</td>\n",
       "      <td>NaN</td>\n",
       "    </tr>\n",
       "  </tbody>\n",
       "</table>\n",
       "</div>"
      ],
      "text/plain": [
       "            degrees of freedom  sum of squares  mean sum of squares  \\\n",
       "Regression                   1      425.959048           425.959048   \n",
       "Residual                    15       58.761222             3.917415   \n",
       "Total                       16      484.720270                  NaN   \n",
       "\n",
       "            F-statistic       p-value  \n",
       "Regression   108.734732  2.872479e-08  \n",
       "Residual            NaN           NaN  \n",
       "Total               NaN           NaN  "
      ]
     },
     "execution_count": 7,
     "metadata": {},
     "output_type": "execute_result"
    }
   ],
   "source": [
    "# Calculate the sums of squares\n",
    "SSR = sum((model.fittedvalues - df[\"Y\"].mean())**2)\n",
    "SSE = sum(model.resid**2)\n",
    "SST = SSR + SSE\n",
    "\n",
    "# Calculate the degrees of freedom\n",
    "df_R = 1\n",
    "df_E = df.shape[0] - 2\n",
    "\n",
    "# Calculate the mean sum of squares and F-statistic\n",
    "MSR = SSR / df_R\n",
    "F_statistic = MSR / (SSE / df_E)\n",
    "\n",
    "# Create a dictionary to store the values\n",
    "values = {\n",
    "    \"degrees of freedom\": [df_R, df_E, df.shape[0] - 1],\n",
    "    \"sum of squares\": [SSR, SSE, SST],\n",
    "    \"mean sum of squares\": [MSR, SSE / df_E, None],\n",
    "    \"F-statistic\": [F_statistic, None, None],\n",
    "    \"p-value\": [model.f_pvalue, None, None]\n",
    "}\n",
    "\n",
    "# Create a dfFrame\n",
    "data = pd.DataFrame(values, index=[\"Regression\", \"Residual\", \"Total\"])\n",
    "\n",
    "# Display the dfFrame\n",
    "data\n"
   ]
  },
  {
   "attachments": {},
   "cell_type": "markdown",
   "metadata": {},
   "source": [
    "**6. By using the command confint() give a confidence interval of the regression coefficients\n",
    "with a level of confidence of 5%.**"
   ]
  },
  {
   "cell_type": "code",
   "execution_count": 16,
   "metadata": {},
   "outputs": [
    {
     "name": "stdout",
     "output_type": "stream",
     "text": [
      "95% confidence intervals for the coefficients:\n"
     ]
    },
    {
     "data": {
      "text/html": [
       "<div>\n",
       "<style scoped>\n",
       "    .dataframe tbody tr th:only-of-type {\n",
       "        vertical-align: middle;\n",
       "    }\n",
       "\n",
       "    .dataframe tbody tr th {\n",
       "        vertical-align: top;\n",
       "    }\n",
       "\n",
       "    .dataframe thead th {\n",
       "        text-align: right;\n",
       "    }\n",
       "</style>\n",
       "<table border=\"1\" class=\"dataframe\">\n",
       "  <thead>\n",
       "    <tr style=\"text-align: right;\">\n",
       "      <th></th>\n",
       "      <th>0</th>\n",
       "      <th>1</th>\n",
       "    </tr>\n",
       "  </thead>\n",
       "  <tbody>\n",
       "    <tr>\n",
       "      <th>Intercept</th>\n",
       "      <td>-1.045745</td>\n",
       "      <td>2.385083</td>\n",
       "    </tr>\n",
       "    <tr>\n",
       "      <th>X</th>\n",
       "      <td>2.462293</td>\n",
       "      <td>3.727520</td>\n",
       "    </tr>\n",
       "  </tbody>\n",
       "</table>\n",
       "</div>"
      ],
      "text/plain": [
       "                  0         1\n",
       "Intercept -1.045745  2.385083\n",
       "X          2.462293  3.727520"
      ]
     },
     "execution_count": 16,
     "metadata": {},
     "output_type": "execute_result"
    }
   ],
   "source": [
    "# Calculate the confidence intervals for the coefficients\n",
    "conf_int = model.conf_int(alpha=0.05)\n",
    "\n",
    "print(\"95% confidence intervals for the coefficients:\")\n",
    "conf_int"
   ]
  },
  {
   "attachments": {},
   "cell_type": "markdown",
   "metadata": {},
   "source": [
    "**7. Explain how you can obtain the same confidence interval by hand but using \"R\" !(You mean Python, right? 😏)**"
   ]
  },
  {
   "cell_type": "code",
   "execution_count": 14,
   "metadata": {},
   "outputs": [
    {
     "data": {
      "text/html": [
       "<div>\n",
       "<style scoped>\n",
       "    .dataframe tbody tr th:only-of-type {\n",
       "        vertical-align: middle;\n",
       "    }\n",
       "\n",
       "    .dataframe tbody tr th {\n",
       "        vertical-align: top;\n",
       "    }\n",
       "\n",
       "    .dataframe thead th {\n",
       "        text-align: right;\n",
       "    }\n",
       "</style>\n",
       "<table border=\"1\" class=\"dataframe\">\n",
       "  <thead>\n",
       "    <tr style=\"text-align: right;\">\n",
       "      <th></th>\n",
       "      <th>lower</th>\n",
       "      <th>upper</th>\n",
       "    </tr>\n",
       "  </thead>\n",
       "  <tbody>\n",
       "    <tr>\n",
       "      <th>Intercept</th>\n",
       "      <td>-1.045745</td>\n",
       "      <td>2.385083</td>\n",
       "    </tr>\n",
       "    <tr>\n",
       "      <th>X</th>\n",
       "      <td>2.462293</td>\n",
       "      <td>3.727520</td>\n",
       "    </tr>\n",
       "  </tbody>\n",
       "</table>\n",
       "</div>"
      ],
      "text/plain": [
       "              lower     upper\n",
       "Intercept -1.045745  2.385083\n",
       "X          2.462293  3.727520"
      ]
     },
     "execution_count": 14,
     "metadata": {},
     "output_type": "execute_result"
    }
   ],
   "source": [
    "import pandas as pd\n",
    "import numpy as np\n",
    "import statsmodels.api as sm\n",
    "from scipy.stats import t\n",
    "# Extract coefficient estimates and standard errors\n",
    "coef_est = model.params\n",
    "std_err = model.bse\n",
    "# Calculate t-values\n",
    "t_values = t.ppf(0.975, df=len(df)-2)\n",
    "# Finally, we can calculate the confidence intervals using\n",
    "# the formula Estimate ± t-value * Standard error:\n",
    "# Calculate confidence intervals\n",
    "conf_int_manual = pd.DataFrame({'lower': coef_est - t_values * std_err, \n",
    "                                'upper': coef_est + t_values * std_err})\n",
    "conf_int_manual"
   ]
  },
  {
   "attachments": {},
   "cell_type": "markdown",
   "metadata": {},
   "source": [
    "**8. Use the command predict() to predict the value of Y for X = 500.**"
   ]
  },
  {
   "cell_type": "code",
   "execution_count": 15,
   "metadata": {},
   "outputs": [
    {
     "name": "stdout",
     "output_type": "stream",
     "text": [
      "Predicted value of Y for X = 500:  1548.122754042467\n"
     ]
    }
   ],
   "source": [
    "# Predict value of Y for X = 500\n",
    "X_new = pd.DataFrame({'X': [500]}) # create a new DataFrame with X = 500\n",
    "X_new = sm.add_constant(X_new) # add intercept term to X\n",
    "y_pred = model.predict(X_new) # predict value of Y for X = 500\n",
    "\n",
    "print(\"Predicted value of Y for X = 500: \", y_pred[0])\n"
   ]
  }
 ],
 "metadata": {
  "kernelspec": {
   "display_name": "Python 3",
   "language": "python",
   "name": "python3"
  },
  "language_info": {
   "codemirror_mode": {
    "name": "ipython",
    "version": 3
   },
   "file_extension": ".py",
   "mimetype": "text/x-python",
   "name": "python",
   "nbconvert_exporter": "python",
   "pygments_lexer": "ipython3",
   "version": "3.10.9"
  },
  "orig_nbformat": 4
 },
 "nbformat": 4,
 "nbformat_minor": 2
}
