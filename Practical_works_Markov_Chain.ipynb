{
 "cells": [
  {
   "attachments": {},
   "cell_type": "markdown",
   "metadata": {},
   "source": [
    "<div>Carthage University<br>\n",
    "INSAT<br>\n",
    "Department of Mathematics & Computer Sciences</div>\n",
    "<hr>\n",
    "<div style=\"text-align:center\"><h1>Practical works: Markov Chain</h1></div>\n",
    "<hr>"
   ]
  },
  {
   "attachments": {},
   "cell_type": "markdown",
   "metadata": {},
   "source": [
    "## Practice #1\n",
    "\n",
    "Consider the function $ φ(x) = \\frac{1}{2}(x + \\frac{a}{x}) $\n",
    "\n",
    "<span style=\"color:blue\">1. Show that φa is a contraction on ]0, +∞[, for all a > 0, and determine its contraction coefficient.</span>"
   ]
  },
  {
   "attachments": {},
   "cell_type": "markdown",
   "metadata": {},
   "source": [
    "#### Answer\n",
    "The given function is $$ φ(x) = \\frac{1}{2}(x + \\frac{a}{x}) $$ for a > 0 and x > 0.\n",
    "\n",
    "**To show that φ(x) is a contraction on ]0, +∞[**, we need to prove that there exists a constant k < 1 such that:\n",
    "\n",
    "$ |φ(x) - φ(y)| \\leq k |x - y|$ for all x, y ∈ ]0, +∞[.\n",
    "\n",
    "Let's start by computing the difference between φ(x) and φ(y):\n",
    "\n",
    "When $a \\ne 0$, there are two solutions to $(ax^2 + bx + c = 0)$ and they are \n",
    "\n",
    "\n",
    "$$ \\begin{aligned}\n",
    "|φ(x) - φ(y)| &= \\left|\\frac{x + a/x}{2} - \\frac{y + a/y}{2}\\right| \\\\\n",
    "&= \\left|\\frac{x - y}{2x} + \\frac{a}{2xy} - \\frac{a}{2xy} - \\frac{y - x}{2y}\\right| \\\\\n",
    "&= \\left|\\frac{x - y}{2x} - \\frac{y - x}{2y}\\right| \\\\\n",
    "&= \\left|\\frac{x^2 - y^2}{2xy}\\right| \\\\\n",
    "&= \\left|\\frac{x + y}{2xy}\\right| \\cdot |x - y|\n",
    "\\end{aligned} $$ \n",
    "\n",
    "Note that x and y are positive, so $ \\frac{x + y}{2xy} $ is also positive. Therefore, we can apply the inequality |ab| ≤ |a||b| to obtain:\n",
    "\n",
    "$|φ(x) - φ(y)| \\leq \\left|\\frac{x + y}{2xy}\\right| \\cdot |x - y| \\leq \\frac{x + y}{2xy} \\cdot |x - y|$\n",
    "\n",
    "To make this expression simpler, let's use the fact that x and y are both positive and apply the AM-GM inequality:\n",
    "\n",
    "$(x + y)/2 \\geq \\sqrt{xy}\n",
    "$\n",
    "\n",
    "This implies:\n",
    "\n",
    "$x + y \\geq 2\\sqrt{xy}$\n",
    "\n",
    "Therefore:\n",
    "\n",
    "$|φ(x) - φ(y)| \\leq \\frac{x+y}{2xy} \\cdot |x-y| \\leq \\frac{2\\sqrt{xy}}{2xy} \\cdot |x-y| = \\frac{|x-y|}{\\sqrt{xy}}$\n",
    "\n",
    "Now, we can choose $k = \\frac{1}{\\sqrt{a}}$. Then:\n",
    "\n",
    "$|φ(x) - φ(y)| \\leq \\frac{|x-y|}{\\sqrt{xy}} \\leq \\frac{|x-y|}{\\sqrt{a} \\cdot \\sqrt{a}} = k|x-y|$\n",
    "\n",
    "**Therefore, φ(x) is a contraction on ]0, +∞[ with a contraction coefficient of $k = \\frac{1}{\\sqrt{a}}$.**"
   ]
  },
  {
   "attachments": {},
   "cell_type": "markdown",
   "metadata": {},
   "source": [
    "<span style=\"color:blue\">\n",
    "    2. Show that the recursive sequence defined below\n",
    "    \n",
    "        x0 > 0\n",
    "    \n",
    "        xn+1 = φa(xn)\n",
    "    \n",
    "        is convergent to √a for all given initial value x0.\n",
    "</span>"
   ]
  },
  {
   "attachments": {},
   "cell_type": "markdown",
   "metadata": {},
   "source": [
    "The given recursive sequence is defined by:\n",
    "\n",
    "$$x_0 > 0$$\n",
    "$$x_n+1 = φ_a (x_n)$$\n",
    "\n",
    "where $φ_a(x) = \\frac{x + a/x}{2}$ for a > 0 and x > 0.\n",
    "\n",
    "To show that the sequence converges to √a for all initial values x_0, we need to show that the sequence is bounded and that it converges to √a.\n",
    "\n",
    "First, we will show that the sequence is bounded. Let's assume that x_n is bounded by M for all n, i.e., |x_n| ≤ M for all n. Then we can write:\n",
    "\n",
    "$$ \\begin{aligned}\n",
    "|x_n+1 - √a| &=\\left |φ_a(x_n) - √a\\right| \\\\\n",
    "\n",
    "&=\\left |(x_n + a/x_n)/2 - √a\\right| \\\\\n",
    "\n",
    "&=\\left |(x_n/2 + a/x_n/2) - (√a/2 + √a/2)\\right| \\\\\n",
    "\\end{aligned} $$ \n",
    "\n",
    "Applying the triangle inequality, we get:\n",
    "\n",
    "$|x_n+1 - √a| ≤ |x_n/2 - √a/2| + |a/x_n/2 - √a/2|$\n",
    "\n",
    "We want to show that this expression is bounded by some constant K independent of n. Let's choose K = max{1, |√a - x_0|, √a}. Then we have:\n",
    "\n",
    "$$\\begin{aligned}\n",
    "\\left|x_1 - \\sqrt{a}\\right| &\\leq \\left| \\frac{x_0}{2} - \\frac{\\sqrt{a}}{2} \\right| + \\left| \\frac{a}{x_0} - \\frac{\\sqrt{a}}{2} \\right| \\leq K/2 + K/2 = K \\\\\n",
    "\\left|x_2 - \\sqrt{a}\\right| &\\leq \\left| \\frac{x_1}{2} - \\frac{\\sqrt{a}}{2} \\right| + \\left| \\frac{a}{x_1} - \\frac{\\sqrt{a}}{2} \\right| \\leq K/2 + K/2 = K \\\\\n",
    "\\left|x_3 - \\sqrt{a}\\right| &\\leq \\left| \\frac{x_2}{2} - \\frac{\\sqrt{a}}{2} \\right| + \\left| \\frac{a}{x_2} - \\frac{\\sqrt{a}}{2} \\right| \\leq K/2 + K/2 = K\n",
    "\\end{aligned}$$\n",
    "\n",
    "\n",
    "and so on.\n",
    "\n",
    "Therefore, we have shown that if the sequence is bounded by M, then $|x_n+1 - √a|$ ≤ K for some constant K independent of n. This implies that the sequence is also bounded by M + K.\n",
    "\n",
    "Now, we will show that the sequence converges to √a. Let L = √a be the limit of the sequence. Then we have:\n",
    "\n",
    "L = lim_{n->∞} x_n\n",
    "\n",
    "Also, since φ_a(x) is a continuous function for x > 0, we can take the limit of both sides of the recursive formula to get:\n",
    "$$\n",
    "\\begin{aligned}\n",
    "L &= \\lim_{n \\to \\infty} \\phi_a(x_n) \\\\\n",
    "&= \\phi_a(\\lim_{n \\to \\infty} x_n) \\\\\n",
    "&= \\phi_a(L)\n",
    "\\end{aligned}\n",
    "$$\n",
    "\n",
    "Substituting $φ_a(x) = \\frac{x + a/x}{2}$, we get:\n",
    "\n",
    "$L = \\frac{1}{2}(L + \\frac{a}{L})$\n",
    "\n",
    "Multiplying both sides by 2L, we get:\n",
    "\n",
    "$2L^2 = L^2 + a$\n",
    "\n",
    "Simplifying, we get:\n",
    "\n",
    "$L^2 = a$\n",
    "\n",
    "Since L is non-negative, we have L = √a.\n",
    "\n",
    "Therefore, the sequence converges to √a for all initial values x_0, as required."
   ]
  },
  {
   "attachments": {},
   "cell_type": "markdown",
   "metadata": {},
   "source": [
    "<span style=\"color:blue\">\n",
    "    3. Write a code that generate the nth term of the sequence above for a given initial value x0\n",
    "    and a given positive number a > 0.\n",
    "</span>"
   ]
  },
  {
   "cell_type": "code",
   "execution_count": 1,
   "metadata": {},
   "outputs": [],
   "source": [
    "def phi_a(x, a):\n",
    "    return (x + a/x) / 2\n",
    "\n",
    "def nth_term(x_0, a, n):\n",
    "    x_n = x_0\n",
    "    for i in range(n):\n",
    "        x_n = phi_a(x_n, a)\n",
    "    return x_n\n"
   ]
  },
  {
   "cell_type": "code",
   "execution_count": 2,
   "metadata": {},
   "outputs": [
    {
     "data": {
      "text/plain": [
       "2.23606797749979"
      ]
     },
     "execution_count": 2,
     "metadata": {},
     "output_type": "execute_result"
    }
   ],
   "source": [
    "nth_term(2, 5, 10)"
   ]
  },
  {
   "attachments": {},
   "cell_type": "markdown",
   "metadata": {},
   "source": [
    "<span style=\"color:blue\">4. Plot the dynamics of your recursive sequence, and compare it with the value of√a.</span>"
   ]
  },
  {
   "cell_type": "code",
   "execution_count": 6,
   "metadata": {},
   "outputs": [],
   "source": [
    "import matplotlib.pyplot as plt\n",
    "import math\n",
    "def plot_sequence(x_0, a, n):\n",
    "    seq = [x_0]\n",
    "    for i in range(n):\n",
    "        seq.append(phi_a(seq[-1], a))\n",
    "    plt.plot(seq, 'bo-', label='Sequence')\n",
    "    plt.axhline(y=math.sqrt(a), color='r', label='√a')\n",
    "    plt.xlabel('n')\n",
    "    plt.ylabel('x_n')\n",
    "    plt.legend()\n",
    "    plt.show()"
   ]
  },
  {
   "cell_type": "code",
   "execution_count": 7,
   "metadata": {},
   "outputs": [
    {
     "data": {
      "image/png": "[encoded data removed]",
      "text/plain": [
       "<Figure size 640x480 with 1 Axes>"
      ]
     },
     "metadata": {},
     "output_type": "display_data"
    }
   ],
   "source": [
    "plot_sequence(2, 5, 10)"
   ]
  },
  {
   "cell_type": "markdown",
   "metadata": {},
   "source": [
    "## Practice #2"
   ]
  },
  {
   "cell_type": "code",
   "execution_count": 8,
   "metadata": {},
   "outputs": [],
   "source": [
    "import numpy as np\n",
    "import matplotlib.pyplot as plt\n",
    "\n",
    "# Define the transition matrix and the initial state distribution\n",
    "T = np.array([[0.7, 0.2, 0.1], [0.3, 0.4, 0.3], [0.2, 0.3, 0.5]])\n",
    "PX0 = np.array([0.4, 0.3, 0.3])"
   ]
  },
  {
   "cell_type": "code",
   "execution_count": 9,
   "metadata": {},
   "outputs": [],
   "source": [
    "# Define a function that generates the n first state distributions\n",
    "def generate_states(n):\n",
    "    state_distributions = [PX0]\n",
    "    current_distribution = PX0\n",
    "\n",
    "    for _ in range(n):\n",
    "        next_distribution = current_distribution.dot(T)\n",
    "        state_distributions.append(next_distribution)\n",
    "        current_distribution = next_distribution\n",
    "\n",
    "    return state_distributions"
   ]
  },
  {
   "cell_type": "code",
   "execution_count": 10,
   "metadata": {},
   "outputs": [],
   "source": [
    "# Define variables and generate state distributions\n",
    "N = 20\n",
    "n_columns = 20\n",
    "state_distributions = generate_states(N)\n",
    "\n",
    "# Define a function that determines the color of a given value based on the probabilities in the state distribution\n",
    "def get_color(probabilities, value):\n",
    "    if value <= probabilities[0]:\n",
    "        return \"red\"\n",
    "    elif value <= probabilities[0] + probabilities[1]:\n",
    "        return \"green\"\n",
    "    else:\n",
    "        return \"blue\""
   ]
  },
  {
   "cell_type": "code",
   "execution_count": 11,
   "metadata": {},
   "outputs": [],
   "source": [
    "# Seed the random number generator\n",
    "np.random.seed(0)\n",
    "\n",
    "# Generate a grid of squares representing the state distributions at each step\n",
    "squares = []\n",
    "for i, state_distribution in enumerate(state_distributions):\n",
    "    row = []\n",
    "    for j in range(n_columns):\n",
    "        color = get_color(state_distribution, np.random.rand())\n",
    "        square = plt.Rectangle((j, i), 1, 1, fc=color, ec=\"black\")\n",
    "        row.append(square)\n",
    "    squares.append(row)"
   ]
  },
  {
   "cell_type": "code",
   "execution_count": 12,
   "metadata": {},
   "outputs": [
    {
     "data": {
      "image/png": "[encoded data removed]",
      "text/plain": [
       "<Figure size 640x480 with 1 Axes>"
      ]
     },
     "metadata": {},
     "output_type": "display_data"
    }
   ],
   "source": [
    "# Create a plot of the grid of squares\n",
    "fig, ax = plt.subplots()\n",
    "for row in squares:\n",
    "    for square in row:\n",
    "        ax.add_patch(square)\n",
    "\n",
    "ax.set_xlim(0, len(squares[0]))\n",
    "ax.set_ylim(0, len(squares))\n",
    "ax.set_xticks([])\n",
    "ax.set_yticks([])\n",
    "plt.show()\n"
   ]
  }
 ],
 "metadata": {
  "kernelspec": {
   "display_name": "Python 3",
   "language": "python",
   "name": "python3"
  },
  "language_info": {
   "codemirror_mode": {
    "name": "ipython",
    "version": 3
   },
   "file_extension": ".py",
   "mimetype": "text/x-python",
   "name": "python",
   "nbconvert_exporter": "python",
   "pygments_lexer": "ipython3",
   "version": "3.10.9"
  },
  "orig_nbformat": 4
 },
 "nbformat": 4,
 "nbformat_minor": 2
}
